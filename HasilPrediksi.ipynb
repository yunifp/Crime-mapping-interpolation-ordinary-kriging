{
 "cells": [
  {
   "cell_type": "code",
   "execution_count": 1,
   "id": "9a6e9efd",
   "metadata": {},
   "outputs": [
    {
     "name": "stdout",
     "output_type": "stream",
     "text": [
      "--- Skrip Ekstraksi Data Raster ke CSV Dimulai (Perbaikan Final) ---\n",
      "Membaca file: output\\peta_kerawanan_purbalingga.tif\n",
      "✓ Ditemukan 67137 titik data (piksel) di dalam batas wilayah.\n",
      "Langkah 7: Membuat DataFrame...\n",
      "✓ Data prediksi grid berhasil disimpan ke: output\\prediksi_kerawanan_grid_lengkap.csv\n",
      "\n",
      "   STATISTIK DESKRIPTIF DATA PREDIKSI (untuk Tabel 4.8)\n",
      "|       |   nilai_prediksi_kerawanan |\n",
      "|:------|---------------------------:|\n",
      "| count |               67137.000000 |\n",
      "| mean  |                   1.214077 |\n",
      "| std   |                   0.077141 |\n",
      "| min   |                   1.040548 |\n",
      "| 25%   |                   1.213998 |\n",
      "| 50%   |                   1.214002 |\n",
      "| 75%   |                   1.214002 |\n",
      "| max   |                   2.462898 |\n",
      "================================================================================\n",
      "\n",
      "--- Selesai ---\n"
     ]
    }
   ],
   "source": [
    "import rasterio\n",
    "import pandas as pd\n",
    "import numpy as np\n",
    "from pathlib import Path\n",
    "\n",
    "OUTPUT_DIR = Path('output')\n",
    "INPUT_RASTER = OUTPUT_DIR / 'peta_kerawanan_purbalingga.tif'\n",
    "OUTPUT_CSV = OUTPUT_DIR / 'prediksi_kerawanan_grid_lengkap.csv'\n",
    "\n",
    "\n",
    "print(f\"--- Skrip Ekstraksi Data Raster ke CSV Dimulai (Perbaikan Final) ---\")\n",
    "print(f\"Membaca file: {INPUT_RASTER}\")\n",
    "\n",
    "try:\n",
    "    with rasterio.open(INPUT_RASTER) as src:\n",
    "        image = src.read(1)\n",
    "        nodata_val = src.nodata if src.nodata is not None else np.nan\n",
    "        transform = src.transform\n",
    "        \n",
    "        if np.isnan(nodata_val):\n",
    "            rows, cols = np.where(~np.isnan(image))\n",
    "        else:\n",
    "            rows, cols = np.where(image != nodata_val)\n",
    "        \n",
    "        print(f\"✓ Ditemukan {len(rows)} titik data (piksel) di dalam batas wilayah.\") \n",
    "        \n",
    "        values = image[rows, cols]\n",
    "        lons, lats = rasterio.transform.xy(transform, rows, cols)\n",
    "\n",
    "        print(\"Langkah 7: Membuat DataFrame...\")\n",
    "        df_pred = pd.DataFrame({\n",
    "            'longitude': lons,\n",
    "            'latitude': lats,\n",
    "            'nilai_prediksi_kerawanan': values\n",
    "        })\n",
    "\n",
    "\n",
    "        df_pred.to_csv(OUTPUT_CSV, index=False, float_format='%.6f')\n",
    "        print(f\"✓ Data prediksi grid berhasil disimpan ke: {OUTPUT_CSV}\")\n",
    "\n",
    "      \n",
    "        \n",
    "        print(\"\\n   STATISTIK DESKRIPTIF DATA PREDIKSI (untuk Tabel 4.8)\")\n",
    "        \n",
    "        print(df_pred['nilai_prediksi_kerawanan'].describe().to_markdown(floatfmt=\".6f\"))\n",
    "        # ==========================================================\n",
    "\n",
    "        print(\"=\"*80)\n",
    "        print(f\"\\n--- Selesai ---\")\n",
    "\n",
    "except FileNotFoundError:\n",
    "    print(f\"❌ ERROR: File {INPUT_RASTER} tidak ditemukan.\")\n",
    "    print(\"Pastikan Anda sudah menjalankan skrip interpolasi utama terlebih dahulu.\")\n",
    "except Exception as e:\n",
    "    print(f\"❌ Terjadi error saat mengekstraksi raster: {e}\")"
   ]
  }
 ],
 "metadata": {
  "kernelspec": {
   "display_name": "Python 3",
   "language": "python",
   "name": "python3"
  },
  "language_info": {
   "codemirror_mode": {
    "name": "ipython",
    "version": 3
   },
   "file_extension": ".py",
   "mimetype": "text/x-python",
   "name": "python",
   "nbconvert_exporter": "python",
   "pygments_lexer": "ipython3",
   "version": "3.11.0"
  }
 },
 "nbformat": 4,
 "nbformat_minor": 5
}
